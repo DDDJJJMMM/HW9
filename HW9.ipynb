{
 "cells": [
  {
   "cell_type": "code",
   "execution_count": 1,
   "id": "9f5c7ddd-ace7-4491-9448-757bda7698d7",
   "metadata": {
    "tags": []
   },
   "outputs": [
    {
     "ename": "ModuleNotFoundError",
     "evalue": "No module named 'quandl'",
     "output_type": "error",
     "traceback": [
      "\u001b[1;31m---------------------------------------------------------------------------\u001b[0m",
      "\u001b[1;31mModuleNotFoundError\u001b[0m                       Traceback (most recent call last)",
      "Cell \u001b[1;32mIn[1], line 4\u001b[0m\n\u001b[0;32m      2\u001b[0m \u001b[38;5;28;01mimport\u001b[39;00m \u001b[38;5;21;01mpandas\u001b[39;00m \u001b[38;5;28;01mas\u001b[39;00m \u001b[38;5;21;01mpd\u001b[39;00m\n\u001b[0;32m      3\u001b[0m \u001b[38;5;28;01mimport\u001b[39;00m \u001b[38;5;21;01mmatplotlib\u001b[39;00m\u001b[38;5;21;01m.\u001b[39;00m\u001b[38;5;21;01mpyplot\u001b[39;00m \u001b[38;5;28;01mas\u001b[39;00m \u001b[38;5;21;01mplt\u001b[39;00m\n\u001b[1;32m----> 4\u001b[0m \u001b[38;5;28;01mimport\u001b[39;00m \u001b[38;5;21;01mquandl\u001b[39;00m\n\u001b[0;32m      6\u001b[0m quandl\u001b[38;5;241m.\u001b[39mApiConfig\u001b[38;5;241m.\u001b[39mapi_key \u001b[38;5;241m=\u001b[39m os\u001b[38;5;241m.\u001b[39menviron\u001b[38;5;241m.\u001b[39mget(\u001b[38;5;124m\"\u001b[39m\u001b[38;5;124mQUANDL_AUTH\u001b[39m\u001b[38;5;124m\"\u001b[39m, \u001b[38;5;124m\"\u001b[39m\u001b[38;5;124mDn6BtVoBhzuKTuyo6hbp\u001b[39m\u001b[38;5;124m\"\u001b[39m)\n\u001b[0;32m      7\u001b[0m start_date \u001b[38;5;241m=\u001b[39m \u001b[38;5;124m\"\u001b[39m\u001b[38;5;124m2014-05-01\u001b[39m\u001b[38;5;124m\"\u001b[39m\n",
      "\u001b[1;31mModuleNotFoundError\u001b[0m: No module named 'quandl'"
     ]
    }
   ],
   "source": [
    "import os\n",
    "import pandas as pd\n",
    "import matplotlib.pyplot as plt\n",
    "import quandl\n",
    "\n",
    "quandl.ApiConfig.api_key = os.environ.get(\"QUANDL_AUTH\", \"Dn6BtVoBhzuKTuyo6hbp\")\n",
    "start_date = \"2014-05-01\"\n",
    "\n",
    "%matplotlib inline"
   ]
  },
  {
   "cell_type": "code",
   "execution_count": 2,
   "id": "85b366ff-beca-4c44-aba1-8da0632ee965",
   "metadata": {
    "tags": []
   },
   "outputs": [],
   "source": [
    "christmas_str = \"2017-12-25\""
   ]
  },
  {
   "cell_type": "code",
   "execution_count": 3,
   "id": "8c869bdc-b65f-4c13-a188-dad7e882410a",
   "metadata": {
    "tags": []
   },
   "outputs": [
    {
     "name": "stdout",
     "output_type": "stream",
     "text": [
      "The type of christmas is <class 'pandas._libs.tslibs.timestamps.Timestamp'>\n"
     ]
    },
    {
     "data": {
      "text/plain": [
       "Timestamp('2017-12-25 00:00:00')"
      ]
     },
     "execution_count": 3,
     "metadata": {},
     "output_type": "execute_result"
    }
   ],
   "source": [
    "christmas = pd.to_datetime(christmas_str)\n",
    "print(\"The type of christmas is\", type(christmas))\n",
    "christmas"
   ]
  },
  {
   "cell_type": "code",
   "execution_count": 4,
   "id": "622bb7ff-22fb-47dd-a53d-9f50cf8c7c92",
   "metadata": {
    "tags": []
   },
   "outputs": [
    {
     "ename": "NameError",
     "evalue": "name 'Timestamp' is not defined",
     "output_type": "error",
     "traceback": [
      "\u001b[1;31m---------------------------------------------------------------------------\u001b[0m",
      "\u001b[1;31mNameError\u001b[0m                                 Traceback (most recent call last)",
      "Cell \u001b[1;32mIn[4], line 1\u001b[0m\n\u001b[1;32m----> 1\u001b[0m Timestamp(\u001b[38;5;124m'\u001b[39m\u001b[38;5;124m2017-12-25 00:00:00\u001b[39m\u001b[38;5;124m'\u001b[39m)\n",
      "\u001b[1;31mNameError\u001b[0m: name 'Timestamp' is not defined"
     ]
    }
   ],
   "source": [
    "Timestamp('2017-12-25 00:00:00')"
   ]
  },
  {
   "cell_type": "code",
   "execution_count": 5,
   "id": "e481ca76-abdf-4103-ae79-fbee0eb795b4",
   "metadata": {
    "tags": []
   },
   "outputs": [
    {
     "name": "stdout",
     "output_type": "stream",
     "text": [
      "pandas interprets December 25, 2017 as 2017-12-25 00:00:00\n",
      "pandas interprets Dec. 25, 2017 as 2017-12-25 00:00:00\n",
      "pandas interprets Monday, Dec. 25, 2017 as 2017-12-25 00:00:00\n",
      "pandas interprets 25 Dec. 2017 as 2017-12-25 00:00:00\n",
      "pandas interprets 25th Dec. 2017 as 2017-12-25 00:00:00\n"
     ]
    }
   ],
   "source": [
    "for date in [\"December 25, 2017\", \"Dec. 25, 2017\",\n",
    "             \"Monday, Dec. 25, 2017\", \"25 Dec. 2017\", \"25th Dec. 2017\"]:\n",
    "    print(\"pandas interprets {} as {}\".format(date, pd.to_datetime(date)))"
   ]
  },
  {
   "cell_type": "code",
   "execution_count": 6,
   "id": "b7872846-2e36-404d-b55c-c366a0cc0237",
   "metadata": {
    "tags": []
   },
   "outputs": [],
   "source": [
    "christmas_amzn = \"2017-12-25T00:00:00+ 00 :00\""
   ]
  },
  {
   "cell_type": "code",
   "execution_count": 7,
   "id": "5868fef2-03fa-4ee6-9113-497e93edb5a3",
   "metadata": {
    "tags": []
   },
   "outputs": [
    {
     "ename": "ParserError",
     "evalue": "Unknown string format: 2017-12-25T00:00:00+ 00 :00 present at position 0",
     "output_type": "error",
     "traceback": [
      "\u001b[1;31m---------------------------------------------------------------------------\u001b[0m",
      "\u001b[1;31mParserError\u001b[0m                               Traceback (most recent call last)",
      "File \u001b[1;32m~\\anaconda3\\Lib\\site-packages\\pandas\\_libs\\tslib.pyx:605\u001b[0m, in \u001b[0;36mpandas._libs.tslib.array_to_datetime\u001b[1;34m()\u001b[0m\n",
      "File \u001b[1;32m~\\anaconda3\\Lib\\site-packages\\pandas\\_libs\\tslibs\\parsing.pyx:318\u001b[0m, in \u001b[0;36mpandas._libs.tslibs.parsing.parse_datetime_string\u001b[1;34m()\u001b[0m\n",
      "File \u001b[1;32m~\\anaconda3\\Lib\\site-packages\\dateutil\\parser\\_parser.py:1368\u001b[0m, in \u001b[0;36mparse\u001b[1;34m(timestr, parserinfo, **kwargs)\u001b[0m\n\u001b[0;32m   1367\u001b[0m \u001b[38;5;28;01melse\u001b[39;00m:\n\u001b[1;32m-> 1368\u001b[0m     \u001b[38;5;28;01mreturn\u001b[39;00m DEFAULTPARSER\u001b[38;5;241m.\u001b[39mparse(timestr, \u001b[38;5;241m*\u001b[39m\u001b[38;5;241m*\u001b[39mkwargs)\n",
      "File \u001b[1;32m~\\anaconda3\\Lib\\site-packages\\dateutil\\parser\\_parser.py:643\u001b[0m, in \u001b[0;36mparser.parse\u001b[1;34m(self, timestr, default, ignoretz, tzinfos, **kwargs)\u001b[0m\n\u001b[0;32m    642\u001b[0m \u001b[38;5;28;01mif\u001b[39;00m res \u001b[38;5;129;01mis\u001b[39;00m \u001b[38;5;28;01mNone\u001b[39;00m:\n\u001b[1;32m--> 643\u001b[0m     \u001b[38;5;28;01mraise\u001b[39;00m ParserError(\u001b[38;5;124m\"\u001b[39m\u001b[38;5;124mUnknown string format: \u001b[39m\u001b[38;5;132;01m%s\u001b[39;00m\u001b[38;5;124m\"\u001b[39m, timestr)\n\u001b[0;32m    645\u001b[0m \u001b[38;5;28;01mif\u001b[39;00m \u001b[38;5;28mlen\u001b[39m(res) \u001b[38;5;241m==\u001b[39m \u001b[38;5;241m0\u001b[39m:\n",
      "\u001b[1;31mParserError\u001b[0m: Unknown string format: 2017-12-25T00:00:00+ 00 :00",
      "\nDuring handling of the above exception, another exception occurred:\n",
      "\u001b[1;31mTypeError\u001b[0m                                 Traceback (most recent call last)",
      "File \u001b[1;32m~\\anaconda3\\Lib\\site-packages\\pandas\\_libs\\tslib.pyx:616\u001b[0m, in \u001b[0;36mpandas._libs.tslib.array_to_datetime\u001b[1;34m()\u001b[0m\n",
      "\u001b[1;31mTypeError\u001b[0m: invalid string coercion to datetime for \"2017-12-25T00:00:00+ 00 :00\" at position 0",
      "\nDuring handling of the above exception, another exception occurred:\n",
      "\u001b[1;31mParserError\u001b[0m                               Traceback (most recent call last)",
      "Cell \u001b[1;32mIn[7], line 1\u001b[0m\n\u001b[1;32m----> 1\u001b[0m pd\u001b[38;5;241m.\u001b[39mto_datetime(christmas_amzn)\n",
      "File \u001b[1;32m~\\anaconda3\\Lib\\site-packages\\pandas\\core\\tools\\datetimes.py:1102\u001b[0m, in \u001b[0;36mto_datetime\u001b[1;34m(arg, errors, dayfirst, yearfirst, utc, format, exact, unit, infer_datetime_format, origin, cache)\u001b[0m\n\u001b[0;32m   1100\u001b[0m         result \u001b[38;5;241m=\u001b[39m convert_listlike(argc, \u001b[38;5;28mformat\u001b[39m)\n\u001b[0;32m   1101\u001b[0m \u001b[38;5;28;01melse\u001b[39;00m:\n\u001b[1;32m-> 1102\u001b[0m     result \u001b[38;5;241m=\u001b[39m convert_listlike(np\u001b[38;5;241m.\u001b[39marray([arg]), \u001b[38;5;28mformat\u001b[39m)[\u001b[38;5;241m0\u001b[39m]\n\u001b[0;32m   1103\u001b[0m     \u001b[38;5;28;01mif\u001b[39;00m \u001b[38;5;28misinstance\u001b[39m(arg, \u001b[38;5;28mbool\u001b[39m) \u001b[38;5;129;01mand\u001b[39;00m \u001b[38;5;28misinstance\u001b[39m(result, np\u001b[38;5;241m.\u001b[39mbool_):\n\u001b[0;32m   1104\u001b[0m         result \u001b[38;5;241m=\u001b[39m \u001b[38;5;28mbool\u001b[39m(result)  \u001b[38;5;66;03m# TODO: avoid this kludge.\u001b[39;00m\n",
      "File \u001b[1;32m~\\anaconda3\\Lib\\site-packages\\pandas\\core\\tools\\datetimes.py:438\u001b[0m, in \u001b[0;36m_convert_listlike_datetimes\u001b[1;34m(arg, format, name, tz, unit, errors, infer_datetime_format, dayfirst, yearfirst, exact)\u001b[0m\n\u001b[0;32m    436\u001b[0m \u001b[38;5;28;01massert\u001b[39;00m \u001b[38;5;28mformat\u001b[39m \u001b[38;5;129;01mis\u001b[39;00m \u001b[38;5;28;01mNone\u001b[39;00m \u001b[38;5;129;01mor\u001b[39;00m infer_datetime_format\n\u001b[0;32m    437\u001b[0m utc \u001b[38;5;241m=\u001b[39m tz \u001b[38;5;241m==\u001b[39m \u001b[38;5;124m\"\u001b[39m\u001b[38;5;124mutc\u001b[39m\u001b[38;5;124m\"\u001b[39m\n\u001b[1;32m--> 438\u001b[0m result, tz_parsed \u001b[38;5;241m=\u001b[39m objects_to_datetime64ns(\n\u001b[0;32m    439\u001b[0m     arg,\n\u001b[0;32m    440\u001b[0m     dayfirst\u001b[38;5;241m=\u001b[39mdayfirst,\n\u001b[0;32m    441\u001b[0m     yearfirst\u001b[38;5;241m=\u001b[39myearfirst,\n\u001b[0;32m    442\u001b[0m     utc\u001b[38;5;241m=\u001b[39mutc,\n\u001b[0;32m    443\u001b[0m     errors\u001b[38;5;241m=\u001b[39merrors,\n\u001b[0;32m    444\u001b[0m     require_iso8601\u001b[38;5;241m=\u001b[39mrequire_iso8601,\n\u001b[0;32m    445\u001b[0m     allow_object\u001b[38;5;241m=\u001b[39m\u001b[38;5;28;01mTrue\u001b[39;00m,\n\u001b[0;32m    446\u001b[0m )\n\u001b[0;32m    448\u001b[0m \u001b[38;5;28;01mif\u001b[39;00m tz_parsed \u001b[38;5;129;01mis\u001b[39;00m \u001b[38;5;129;01mnot\u001b[39;00m \u001b[38;5;28;01mNone\u001b[39;00m:\n\u001b[0;32m    449\u001b[0m     \u001b[38;5;66;03m# We can take a shortcut since the datetime64 numpy array\u001b[39;00m\n\u001b[0;32m    450\u001b[0m     \u001b[38;5;66;03m# is in UTC\u001b[39;00m\n\u001b[0;32m    451\u001b[0m     dta \u001b[38;5;241m=\u001b[39m DatetimeArray(result, dtype\u001b[38;5;241m=\u001b[39mtz_to_dtype(tz_parsed))\n",
      "File \u001b[1;32m~\\anaconda3\\Lib\\site-packages\\pandas\\core\\arrays\\datetimes.py:2177\u001b[0m, in \u001b[0;36mobjects_to_datetime64ns\u001b[1;34m(data, dayfirst, yearfirst, utc, errors, require_iso8601, allow_object, allow_mixed)\u001b[0m\n\u001b[0;32m   2175\u001b[0m order: Literal[\u001b[38;5;124m\"\u001b[39m\u001b[38;5;124mF\u001b[39m\u001b[38;5;124m\"\u001b[39m, \u001b[38;5;124m\"\u001b[39m\u001b[38;5;124mC\u001b[39m\u001b[38;5;124m\"\u001b[39m] \u001b[38;5;241m=\u001b[39m \u001b[38;5;124m\"\u001b[39m\u001b[38;5;124mF\u001b[39m\u001b[38;5;124m\"\u001b[39m \u001b[38;5;28;01mif\u001b[39;00m flags\u001b[38;5;241m.\u001b[39mf_contiguous \u001b[38;5;28;01melse\u001b[39;00m \u001b[38;5;124m\"\u001b[39m\u001b[38;5;124mC\u001b[39m\u001b[38;5;124m\"\u001b[39m\n\u001b[0;32m   2176\u001b[0m \u001b[38;5;28;01mtry\u001b[39;00m:\n\u001b[1;32m-> 2177\u001b[0m     result, tz_parsed \u001b[38;5;241m=\u001b[39m tslib\u001b[38;5;241m.\u001b[39marray_to_datetime(\n\u001b[0;32m   2178\u001b[0m         data\u001b[38;5;241m.\u001b[39mravel(\u001b[38;5;124m\"\u001b[39m\u001b[38;5;124mK\u001b[39m\u001b[38;5;124m\"\u001b[39m),\n\u001b[0;32m   2179\u001b[0m         errors\u001b[38;5;241m=\u001b[39merrors,\n\u001b[0;32m   2180\u001b[0m         utc\u001b[38;5;241m=\u001b[39mutc,\n\u001b[0;32m   2181\u001b[0m         dayfirst\u001b[38;5;241m=\u001b[39mdayfirst,\n\u001b[0;32m   2182\u001b[0m         yearfirst\u001b[38;5;241m=\u001b[39myearfirst,\n\u001b[0;32m   2183\u001b[0m         require_iso8601\u001b[38;5;241m=\u001b[39mrequire_iso8601,\n\u001b[0;32m   2184\u001b[0m         allow_mixed\u001b[38;5;241m=\u001b[39mallow_mixed,\n\u001b[0;32m   2185\u001b[0m     )\n\u001b[0;32m   2186\u001b[0m     result \u001b[38;5;241m=\u001b[39m result\u001b[38;5;241m.\u001b[39mreshape(data\u001b[38;5;241m.\u001b[39mshape, order\u001b[38;5;241m=\u001b[39morder)\n\u001b[0;32m   2187\u001b[0m \u001b[38;5;28;01mexcept\u001b[39;00m \u001b[38;5;167;01mOverflowError\u001b[39;00m \u001b[38;5;28;01mas\u001b[39;00m err:\n\u001b[0;32m   2188\u001b[0m     \u001b[38;5;66;03m# Exception is raised when a part of date is greater than 32 bit signed int\u001b[39;00m\n",
      "File \u001b[1;32m~\\anaconda3\\Lib\\site-packages\\pandas\\_libs\\tslib.pyx:427\u001b[0m, in \u001b[0;36mpandas._libs.tslib.array_to_datetime\u001b[1;34m()\u001b[0m\n",
      "File \u001b[1;32m~\\anaconda3\\Lib\\site-packages\\pandas\\_libs\\tslib.pyx:683\u001b[0m, in \u001b[0;36mpandas._libs.tslib.array_to_datetime\u001b[1;34m()\u001b[0m\n",
      "File \u001b[1;32m~\\anaconda3\\Lib\\site-packages\\pandas\\_libs\\tslib.pyx:829\u001b[0m, in \u001b[0;36mpandas._libs.tslib._array_to_datetime_object\u001b[1;34m()\u001b[0m\n",
      "File \u001b[1;32m~\\anaconda3\\Lib\\site-packages\\pandas\\_libs\\tslib.pyx:819\u001b[0m, in \u001b[0;36mpandas._libs.tslib._array_to_datetime_object\u001b[1;34m()\u001b[0m\n",
      "File \u001b[1;32m~\\anaconda3\\Lib\\site-packages\\pandas\\_libs\\tslibs\\parsing.pyx:318\u001b[0m, in \u001b[0;36mpandas._libs.tslibs.parsing.parse_datetime_string\u001b[1;34m()\u001b[0m\n",
      "File \u001b[1;32m~\\anaconda3\\Lib\\site-packages\\dateutil\\parser\\_parser.py:1368\u001b[0m, in \u001b[0;36mparse\u001b[1;34m(timestr, parserinfo, **kwargs)\u001b[0m\n\u001b[0;32m   1366\u001b[0m     \u001b[38;5;28;01mreturn\u001b[39;00m parser(parserinfo)\u001b[38;5;241m.\u001b[39mparse(timestr, \u001b[38;5;241m*\u001b[39m\u001b[38;5;241m*\u001b[39mkwargs)\n\u001b[0;32m   1367\u001b[0m \u001b[38;5;28;01melse\u001b[39;00m:\n\u001b[1;32m-> 1368\u001b[0m     \u001b[38;5;28;01mreturn\u001b[39;00m DEFAULTPARSER\u001b[38;5;241m.\u001b[39mparse(timestr, \u001b[38;5;241m*\u001b[39m\u001b[38;5;241m*\u001b[39mkwargs)\n",
      "File \u001b[1;32m~\\anaconda3\\Lib\\site-packages\\dateutil\\parser\\_parser.py:643\u001b[0m, in \u001b[0;36mparser.parse\u001b[1;34m(self, timestr, default, ignoretz, tzinfos, **kwargs)\u001b[0m\n\u001b[0;32m    640\u001b[0m res, skipped_tokens \u001b[38;5;241m=\u001b[39m \u001b[38;5;28mself\u001b[39m\u001b[38;5;241m.\u001b[39m_parse(timestr, \u001b[38;5;241m*\u001b[39m\u001b[38;5;241m*\u001b[39mkwargs)\n\u001b[0;32m    642\u001b[0m \u001b[38;5;28;01mif\u001b[39;00m res \u001b[38;5;129;01mis\u001b[39;00m \u001b[38;5;28;01mNone\u001b[39;00m:\n\u001b[1;32m--> 643\u001b[0m     \u001b[38;5;28;01mraise\u001b[39;00m ParserError(\u001b[38;5;124m\"\u001b[39m\u001b[38;5;124mUnknown string format: \u001b[39m\u001b[38;5;132;01m%s\u001b[39;00m\u001b[38;5;124m\"\u001b[39m, timestr)\n\u001b[0;32m    645\u001b[0m \u001b[38;5;28;01mif\u001b[39;00m \u001b[38;5;28mlen\u001b[39m(res) \u001b[38;5;241m==\u001b[39m \u001b[38;5;241m0\u001b[39m:\n\u001b[0;32m    646\u001b[0m     \u001b[38;5;28;01mraise\u001b[39;00m ParserError(\u001b[38;5;124m\"\u001b[39m\u001b[38;5;124mString does not contain a date: \u001b[39m\u001b[38;5;132;01m%s\u001b[39;00m\u001b[38;5;124m\"\u001b[39m, timestr)\n",
      "\u001b[1;31mParserError\u001b[0m: Unknown string format: 2017-12-25T00:00:00+ 00 :00 present at position 0"
     ]
    }
   ],
   "source": [
    "pd.to_datetime(christmas_amzn)"
   ]
  },
  {
   "cell_type": "code",
   "execution_count": 8,
   "id": "e6bcec14-a7c8-494d-91b4-a13cc877a8a1",
   "metadata": {
    "tags": []
   },
   "outputs": [
    {
     "ename": "SyntaxError",
     "evalue": "invalid decimal literal (3878577834.py, line 16)",
     "output_type": "error",
     "traceback": [
      "\u001b[1;36m  Cell \u001b[1;32mIn[8], line 16\u001b[1;36m\u001b[0m\n\u001b[1;33m    ParserError: Unknown string format: 2017-12-25T00:00:00+ 00 :00\u001b[0m\n\u001b[1;37m                                                 ^\u001b[0m\n\u001b[1;31mSyntaxError\u001b[0m\u001b[1;31m:\u001b[0m invalid decimal literal\n"
     ]
    }
   ],
   "source": [
    "---------------------------------------------------------------------------\n",
    "ParserError                               Traceback (most recent call last)\n",
    "File /usr/share/miniconda3/envs/lecture-datascience/lib/python3.9/site-packages/pandas/_libs/tslib.pyx:605, in pandas._libs.tslib.array_to_datetime()\n",
    "\n",
    "File /usr/share/miniconda3/envs/lecture-datascience/lib/python3.9/site-packages/pandas/_libs/tslibs/parsing.pyx:318, in pandas._libs.tslibs.parsing.parse_datetime_string()\n",
    "\n",
    "File /usr/share/miniconda3/envs/lecture-datascience/lib/python3.9/site-packages/dateutil/parser/_parser.py:1368, in parse(timestr, parserinfo, **kwargs)\n",
    "   1367 else:\n",
    "-> 1368     return DEFAULTPARSER.parse(timestr, **kwargs)\n",
    "\n",
    "File /usr/share/miniconda3/envs/lecture-datascience/lib/python3.9/site-packages/dateutil/parser/_parser.py:643, in parser.parse(self, timestr, default, ignoretz, tzinfos, **kwargs)\n",
    "    642 if res is None:\n",
    "--> 643     raise ParserError(\"Unknown string format: %s\", timestr)\n",
    "    645 if len(res) == 0:\n",
    "\n",
    "ParserError: Unknown string format: 2017-12-25T00:00:00+ 00 :00\n",
    "\n",
    "During handling of the above exception, another exception occurred:\n",
    "\n",
    "TypeError                                 Traceback (most recent call last)\n",
    "File /usr/share/miniconda3/envs/lecture-datascience/lib/python3.9/site-packages/pandas/_libs/tslib.pyx:616, in pandas._libs.tslib.array_to_datetime()\n",
    "\n",
    "TypeError: invalid string coercion to datetime for \"2017-12-25T00:00:00+ 00 :00\" at position 0\n",
    "\n",
    "During handling of the above exception, another exception occurred:\n",
    "\n",
    "ParserError                               Traceback (most recent call last)\n",
    "Cell In[6], line 1\n",
    "----> 1 pd.to_datetime(christmas_amzn)\n",
    "\n",
    "File /usr/share/miniconda3/envs/lecture-datascience/lib/python3.9/site-packages/pandas/core/tools/datetimes.py:1102, in to_datetime(arg, errors, dayfirst, yearfirst, utc, format, exact, unit, infer_datetime_format, origin, cache)\n",
    "   1100         result = convert_listlike(argc, format)\n",
    "   1101 else:\n",
    "-> 1102     result = convert_listlike(np.array([arg]), format)[0]\n",
    "   1103     if isinstance(arg, bool) and isinstance(result, np.bool_):\n",
    "   1104         result = bool(result)  # TODO: avoid this kludge.\n",
    "\n",
    "File /usr/share/miniconda3/envs/lecture-datascience/lib/python3.9/site-packages/pandas/core/tools/datetimes.py:438, in _convert_listlike_datetimes(arg, format, name, tz, unit, errors, infer_datetime_format, dayfirst, yearfirst, exact)\n",
    "    436 assert format is None or infer_datetime_format\n",
    "    437 utc = tz == \"utc\"\n",
    "--> 438 result, tz_parsed = objects_to_datetime64ns(\n",
    "    439     arg,\n",
    "    440     dayfirst=dayfirst,\n",
    "    441     yearfirst=yearfirst,\n",
    "    442     utc=utc,\n",
    "    443     errors=errors,\n",
    "    444     require_iso8601=require_iso8601,\n",
    "    445     allow_object=True,\n",
    "    446 )\n",
    "    448 if tz_parsed is not None:\n",
    "    449     # We can take a shortcut since the datetime64 numpy array\n",
    "    450     # is in UTC\n",
    "    451     dta = DatetimeArray(result, dtype=tz_to_dtype(tz_parsed))\n",
    "\n",
    "File /usr/share/miniconda3/envs/lecture-datascience/lib/python3.9/site-packages/pandas/core/arrays/datetimes.py:2177, in objects_to_datetime64ns(data, dayfirst, yearfirst, utc, errors, require_iso8601, allow_object, allow_mixed)\n",
    "   2175 order: Literal[\"F\", \"C\"] = \"F\" if flags.f_contiguous else \"C\"\n",
    "   2176 try:\n",
    "-> 2177     result, tz_parsed = tslib.array_to_datetime(\n",
    "   2178         data.ravel(\"K\"),\n",
    "   2179         errors=errors,\n",
    "   2180         utc=utc,\n",
    "   2181         dayfirst=dayfirst,\n",
    "   2182         yearfirst=yearfirst,\n",
    "   2183         require_iso8601=require_iso8601,\n",
    "   2184         allow_mixed=allow_mixed,\n",
    "   2185     )\n",
    "   2186     result = result.reshape(data.shape, order=order)\n",
    "   2187 except OverflowError as err:\n",
    "   2188     # Exception is raised when a part of date is greater than 32 bit signed int\n",
    "\n",
    "File /usr/share/miniconda3/envs/lecture-datascience/lib/python3.9/site-packages/pandas/_libs/tslib.pyx:427, in pandas._libs.tslib.array_to_datetime()\n",
    "\n",
    "File /usr/share/miniconda3/envs/lecture-datascience/lib/python3.9/site-packages/pandas/_libs/tslib.pyx:683, in pandas._libs.tslib.array_to_datetime()\n",
    "\n",
    "File /usr/share/miniconda3/envs/lecture-datascience/lib/python3.9/site-packages/pandas/_libs/tslib.pyx:829, in pandas._libs.tslib._array_to_datetime_object()\n",
    "\n",
    "File /usr/share/miniconda3/envs/lecture-datascience/lib/python3.9/site-packages/pandas/_libs/tslib.pyx:819, in pandas._libs.tslib._array_to_datetime_object()\n",
    "\n",
    "File /usr/share/miniconda3/envs/lecture-datascience/lib/python3.9/site-packages/pandas/_libs/tslibs/parsing.pyx:318, in pandas._libs.tslibs.parsing.parse_datetime_string()\n",
    "\n",
    "File /usr/share/miniconda3/envs/lecture-datascience/lib/python3.9/site-packages/dateutil/parser/_parser.py:1368, in parse(timestr, parserinfo, **kwargs)\n",
    "   1366     return parser(parserinfo).parse(timestr, **kwargs)\n",
    "   1367 else:\n",
    "-> 1368     return DEFAULTPARSER.parse(timestr, **kwargs)\n",
    "\n",
    "File /usr/share/miniconda3/envs/lecture-datascience/lib/python3.9/site-packages/dateutil/parser/_parser.py:643, in parser.parse(self, timestr, default, ignoretz, tzinfos, **kwargs)\n",
    "    640 res, skipped_tokens = self._parse(timestr, **kwargs)\n",
    "    642 if res is None:\n",
    "--> 643     raise ParserError(\"Unknown string format: %s\", timestr)\n",
    "    645 if len(res) == 0:\n",
    "    646     raise ParserError(\"String does not contain a date: %s\", timestr)\n",
    "\n",
    "ParserError: Unknown string format: 2017-12-25T00:00:00+ 00 :00 present at position 0"
   ]
  },
  {
   "cell_type": "code",
   "execution_count": 9,
   "id": "292c6ee7-7d83-44ea-89b9-7cf0701f0626",
   "metadata": {
    "tags": []
   },
   "outputs": [
    {
     "ename": "SyntaxError",
     "evalue": "invalid decimal literal (3878577834.py, line 16)",
     "output_type": "error",
     "traceback": [
      "\u001b[1;36m  Cell \u001b[1;32mIn[9], line 16\u001b[1;36m\u001b[0m\n\u001b[1;33m    ParserError: Unknown string format: 2017-12-25T00:00:00+ 00 :00\u001b[0m\n\u001b[1;37m                                                 ^\u001b[0m\n\u001b[1;31mSyntaxError\u001b[0m\u001b[1;31m:\u001b[0m invalid decimal literal\n"
     ]
    }
   ],
   "source": [
    "---------------------------------------------------------------------------\n",
    "ParserError                               Traceback (most recent call last)\n",
    "File /usr/share/miniconda3/envs/lecture-datascience/lib/python3.9/site-packages/pandas/_libs/tslib.pyx:605, in pandas._libs.tslib.array_to_datetime()\n",
    "\n",
    "File /usr/share/miniconda3/envs/lecture-datascience/lib/python3.9/site-packages/pandas/_libs/tslibs/parsing.pyx:318, in pandas._libs.tslibs.parsing.parse_datetime_string()\n",
    "\n",
    "File /usr/share/miniconda3/envs/lecture-datascience/lib/python3.9/site-packages/dateutil/parser/_parser.py:1368, in parse(timestr, parserinfo, **kwargs)\n",
    "   1367 else:\n",
    "-> 1368     return DEFAULTPARSER.parse(timestr, **kwargs)\n",
    "\n",
    "File /usr/share/miniconda3/envs/lecture-datascience/lib/python3.9/site-packages/dateutil/parser/_parser.py:643, in parser.parse(self, timestr, default, ignoretz, tzinfos, **kwargs)\n",
    "    642 if res is None:\n",
    "--> 643     raise ParserError(\"Unknown string format: %s\", timestr)\n",
    "    645 if len(res) == 0:\n",
    "\n",
    "ParserError: Unknown string format: 2017-12-25T00:00:00+ 00 :00\n",
    "\n",
    "During handling of the above exception, another exception occurred:\n",
    "\n",
    "TypeError                                 Traceback (most recent call last)\n",
    "File /usr/share/miniconda3/envs/lecture-datascience/lib/python3.9/site-packages/pandas/_libs/tslib.pyx:616, in pandas._libs.tslib.array_to_datetime()\n",
    "\n",
    "TypeError: invalid string coercion to datetime for \"2017-12-25T00:00:00+ 00 :00\" at position 0\n",
    "\n",
    "During handling of the above exception, another exception occurred:\n",
    "\n",
    "ParserError                               Traceback (most recent call last)\n",
    "Cell In[6], line 1\n",
    "----> 1 pd.to_datetime(christmas_amzn)\n",
    "\n",
    "File /usr/share/miniconda3/envs/lecture-datascience/lib/python3.9/site-packages/pandas/core/tools/datetimes.py:1102, in to_datetime(arg, errors, dayfirst, yearfirst, utc, format, exact, unit, infer_datetime_format, origin, cache)\n",
    "   1100         result = convert_listlike(argc, format)\n",
    "   1101 else:\n",
    "-> 1102     result = convert_listlike(np.array([arg]), format)[0]\n",
    "   1103     if isinstance(arg, bool) and isinstance(result, np.bool_):\n",
    "   1104         result = bool(result)  # TODO: avoid this kludge.\n",
    "\n",
    "File /usr/share/miniconda3/envs/lecture-datascience/lib/python3.9/site-packages/pandas/core/tools/datetimes.py:438, in _convert_listlike_datetimes(arg, format, name, tz, unit, errors, infer_datetime_format, dayfirst, yearfirst, exact)\n",
    "    436 assert format is None or infer_datetime_format\n",
    "    437 utc = tz == \"utc\"\n",
    "--> 438 result, tz_parsed = objects_to_datetime64ns(\n",
    "    439     arg,\n",
    "    440     dayfirst=dayfirst,\n",
    "    441     yearfirst=yearfirst,\n",
    "    442     utc=utc,\n",
    "    443     errors=errors,\n",
    "    444     require_iso8601=require_iso8601,\n",
    "    445     allow_object=True,\n",
    "    446 )\n",
    "    448 if tz_parsed is not None:\n",
    "    449     # We can take a shortcut since the datetime64 numpy array\n",
    "    450     # is in UTC\n",
    "    451     dta = DatetimeArray(result, dtype=tz_to_dtype(tz_parsed))\n",
    "\n",
    "File /usr/share/miniconda3/envs/lecture-datascience/lib/python3.9/site-packages/pandas/core/arrays/datetimes.py:2177, in objects_to_datetime64ns(data, dayfirst, yearfirst, utc, errors, require_iso8601, allow_object, allow_mixed)\n",
    "   2175 order: Literal[\"F\", \"C\"] = \"F\" if flags.f_contiguous else \"C\"\n",
    "   2176 try:\n",
    "-> 2177     result, tz_parsed = tslib.array_to_datetime(\n",
    "   2178         data.ravel(\"K\"),\n",
    "   2179         errors=errors,\n",
    "   2180         utc=utc,\n",
    "   2181         dayfirst=dayfirst,\n",
    "   2182         yearfirst=yearfirst,\n",
    "   2183         require_iso8601=require_iso8601,\n",
    "   2184         allow_mixed=allow_mixed,\n",
    "   2185     )\n",
    "   2186     result = result.reshape(data.shape, order=order)\n",
    "   2187 except OverflowError as err:\n",
    "   2188     # Exception is raised when a part of date is greater than 32 bit signed int\n",
    "\n",
    "File /usr/share/miniconda3/envs/lecture-datascience/lib/python3.9/site-packages/pandas/_libs/tslib.pyx:427, in pandas._libs.tslib.array_to_datetime()\n",
    "\n",
    "File /usr/share/miniconda3/envs/lecture-datascience/lib/python3.9/site-packages/pandas/_libs/tslib.pyx:683, in pandas._libs.tslib.array_to_datetime()\n",
    "\n",
    "File /usr/share/miniconda3/envs/lecture-datascience/lib/python3.9/site-packages/pandas/_libs/tslib.pyx:829, in pandas._libs.tslib._array_to_datetime_object()\n",
    "\n",
    "File /usr/share/miniconda3/envs/lecture-datascience/lib/python3.9/site-packages/pandas/_libs/tslib.pyx:819, in pandas._libs.tslib._array_to_datetime_object()\n",
    "\n",
    "File /usr/share/miniconda3/envs/lecture-datascience/lib/python3.9/site-packages/pandas/_libs/tslibs/parsing.pyx:318, in pandas._libs.tslibs.parsing.parse_datetime_string()\n",
    "\n",
    "File /usr/share/miniconda3/envs/lecture-datascience/lib/python3.9/site-packages/dateutil/parser/_parser.py:1368, in parse(timestr, parserinfo, **kwargs)\n",
    "   1366     return parser(parserinfo).parse(timestr, **kwargs)\n",
    "   1367 else:\n",
    "-> 1368     return DEFAULTPARSER.parse(timestr, **kwargs)\n",
    "\n",
    "File /usr/share/miniconda3/envs/lecture-datascience/lib/python3.9/site-packages/dateutil/parser/_parser.py:643, in parser.parse(self, timestr, default, ignoretz, tzinfos, **kwargs)\n",
    "    640 res, skipped_tokens = self._parse(timestr, **kwargs)\n",
    "    642 if res is None:\n",
    "--> 643     raise ParserError(\"Unknown string format: %s\", timestr)\n",
    "    645 if len(res) == 0:\n",
    "    646     raise ParserError(\"String does not contain a date: %s\", timestr)\n",
    "\n",
    "ParserError: Unknown string format: 2017-12-25T00:00:00+ 00 :00 present at position 0"
   ]
  },
  {
   "cell_type": "code",
   "execution_count": 10,
   "id": "b36d5004-14ce-4229-a48b-44a76e762bcf",
   "metadata": {
    "tags": []
   },
   "outputs": [
    {
     "data": {
      "text/plain": [
       "Timestamp('2017-12-25 00:00:00')"
      ]
     },
     "execution_count": 10,
     "metadata": {},
     "output_type": "execute_result"
    }
   ],
   "source": [
    "amzn_strftime = \"%Y-%m-%dT%H:%M:%S+ 00 :00\"\n",
    "pd.to_datetime(christmas_amzn, format=amzn_strftime)"
   ]
  },
  {
   "cell_type": "code",
   "execution_count": 11,
   "id": "5a0dfbf5-e01d-4eaa-908c-02a096c2a03f",
   "metadata": {
    "tags": []
   },
   "outputs": [
    {
     "ename": "NameError",
     "evalue": "name 'Timestamp' is not defined",
     "output_type": "error",
     "traceback": [
      "\u001b[1;31m---------------------------------------------------------------------------\u001b[0m",
      "\u001b[1;31mNameError\u001b[0m                                 Traceback (most recent call last)",
      "Cell \u001b[1;32mIn[11], line 1\u001b[0m\n\u001b[1;32m----> 1\u001b[0m Timestamp(\u001b[38;5;124m'\u001b[39m\u001b[38;5;124m2017-12-25 00:00:00\u001b[39m\u001b[38;5;124m'\u001b[39m)\n",
      "\u001b[1;31mNameError\u001b[0m: name 'Timestamp' is not defined"
     ]
    }
   ],
   "source": [
    "Timestamp('2017-12-25 00:00:00')"
   ]
  },
  {
   "cell_type": "code",
   "execution_count": 12,
   "id": "bbf8046d-9ede-4fe7-8069-8feca22976d1",
   "metadata": {
    "tags": []
   },
   "outputs": [
    {
     "name": "stdout",
     "output_type": "stream",
     "text": [
      "%Y-%m-%dT%H:%M:%S+ 00 :00\n",
      "2017-12-25T00:00:00+ 00 :00\n"
     ]
    }
   ],
   "source": [
    "print(amzn_strftime)\n",
    "print(christmas_amzn)"
   ]
  },
  {
   "cell_type": "code",
   "execution_count": 13,
   "id": "26696ddf-c275-403d-974c-7dc45a4cf98f",
   "metadata": {
    "tags": []
   },
   "outputs": [
    {
     "data": {
      "text/plain": [
       "DatetimeIndex(['2017-12-25', '2017-12-31'], dtype='datetime64[ns]', freq=None)"
      ]
     },
     "execution_count": 13,
     "metadata": {},
     "output_type": "execute_result"
    }
   ],
   "source": [
    "pd.to_datetime([\"2017-12-25\", \"2017-12-31\"])"
   ]
  },
  {
   "cell_type": "code",
   "execution_count": 14,
   "id": "a8368c2c-8a21-4fc9-becf-d477e8689d88",
   "metadata": {
    "tags": []
   },
   "outputs": [
    {
     "data": {
      "text/plain": [
       "'We love Monday December 25 (also written Mon Dec 25 00:00:00 2017)'"
      ]
     },
     "execution_count": 14,
     "metadata": {},
     "output_type": "execute_result"
    }
   ],
   "source": [
    "christmas.strftime(\"We love %A %B %d (also written %c)\")"
   ]
  },
  {
   "cell_type": "code",
   "execution_count": 15,
   "id": "0b63f2e6-ca5d-4aa3-881b-81e264b798af",
   "metadata": {
    "tags": []
   },
   "outputs": [
    {
     "ename": "NameError",
     "evalue": "name 'quandl' is not defined",
     "output_type": "error",
     "traceback": [
      "\u001b[1;31m---------------------------------------------------------------------------\u001b[0m",
      "\u001b[1;31mNameError\u001b[0m                                 Traceback (most recent call last)",
      "Cell \u001b[1;32mIn[15], line 1\u001b[0m\n\u001b[1;32m----> 1\u001b[0m btc_usd \u001b[38;5;241m=\u001b[39m quandl\u001b[38;5;241m.\u001b[39mget(\u001b[38;5;124m\"\u001b[39m\u001b[38;5;124mBCHARTS/BITSTAMPUSD\u001b[39m\u001b[38;5;124m\"\u001b[39m, start_date\u001b[38;5;241m=\u001b[39mstart_date)\n\u001b[0;32m      2\u001b[0m btc_usd\u001b[38;5;241m.\u001b[39minfo()\n\u001b[0;32m      3\u001b[0m btc_usd\u001b[38;5;241m.\u001b[39mhead()\n",
      "\u001b[1;31mNameError\u001b[0m: name 'quandl' is not defined"
     ]
    }
   ],
   "source": [
    "btc_usd = quandl.get(\"BCHARTS/BITSTAMPUSD\", start_date=start_date)\n",
    "btc_usd.info()\n",
    "btc_usd.head()"
   ]
  },
  {
   "cell_type": "code",
   "execution_count": 16,
   "id": "db0352bb-4cfe-4f38-99f0-792b98d6b59b",
   "metadata": {
    "tags": []
   },
   "outputs": [
    {
     "ename": "SyntaxError",
     "evalue": "leading zeros in decimal integer literals are not permitted; use an 0o prefix for octal integers (1518939853.py, line 2)",
     "output_type": "error",
     "traceback": [
      "\u001b[1;36m  Cell \u001b[1;32mIn[16], line 2\u001b[1;36m\u001b[0m\n\u001b[1;33m    DatetimeIndex: 2599 entries, 2014-05-01 to 2021-06-20\u001b[0m\n\u001b[1;37m                                      ^\u001b[0m\n\u001b[1;31mSyntaxError\u001b[0m\u001b[1;31m:\u001b[0m leading zeros in decimal integer literals are not permitted; use an 0o prefix for octal integers\n"
     ]
    }
   ],
   "source": [
    "<class 'pandas.core.frame.DataFrame'>\n",
    "DatetimeIndex: 2599 entries, 2014-05-01 to 2021-06-20\n",
    "Data columns (total 7 columns):\n",
    " #   Column             Non-Null Count  Dtype  \n",
    "---  ------             --------------  -----  \n",
    " 0   Open               2599 non-null   float64\n",
    " 1   High               2599 non-null   float64\n",
    " 2   Low                2599 non-null   float64\n",
    " 3   Close              2599 non-null   float64\n",
    " 4   Volume (BTC)       2599 non-null   float64\n",
    " 5   Volume (Currency)  2599 non-null   float64\n",
    " 6   Weighted Price     2599 non-null   float64\n",
    "dtypes: float64(7)\n",
    "memory usage: 162.4 KB"
   ]
  },
  {
   "cell_type": "code",
   "execution_count": 17,
   "id": "90a2d29e-9efa-4156-9049-b2f7640cdc6c",
   "metadata": {
    "tags": []
   },
   "outputs": [
    {
     "ename": "NameError",
     "evalue": "name 'btc_usd' is not defined",
     "output_type": "error",
     "traceback": [
      "\u001b[1;31m---------------------------------------------------------------------------\u001b[0m",
      "\u001b[1;31mNameError\u001b[0m                                 Traceback (most recent call last)",
      "Cell \u001b[1;32mIn[17], line 1\u001b[0m\n\u001b[1;32m----> 1\u001b[0m btc_usd\u001b[38;5;241m.\u001b[39mloc[\u001b[38;5;124m\"\u001b[39m\u001b[38;5;124m2015\u001b[39m\u001b[38;5;124m\"\u001b[39m]\n",
      "\u001b[1;31mNameError\u001b[0m: name 'btc_usd' is not defined"
     ]
    }
   ],
   "source": [
    "btc_usd.loc[\"2015\"]"
   ]
  },
  {
   "cell_type": "code",
   "execution_count": 18,
   "id": "fb67301b-3e78-43ce-807d-d89f731c6291",
   "metadata": {
    "tags": []
   },
   "outputs": [
    {
     "ename": "NameError",
     "evalue": "name 'btc_usd' is not defined",
     "output_type": "error",
     "traceback": [
      "\u001b[1;31m---------------------------------------------------------------------------\u001b[0m",
      "\u001b[1;31mNameError\u001b[0m                                 Traceback (most recent call last)",
      "Cell \u001b[1;32mIn[18], line 2\u001b[0m\n\u001b[0;32m      1\u001b[0m \u001b[38;5;66;03m# By month's name\u001b[39;00m\n\u001b[1;32m----> 2\u001b[0m btc_usd\u001b[38;5;241m.\u001b[39mloc[\u001b[38;5;124m\"\u001b[39m\u001b[38;5;124mAugust 2017\u001b[39m\u001b[38;5;124m\"\u001b[39m]\n",
      "\u001b[1;31mNameError\u001b[0m: name 'btc_usd' is not defined"
     ]
    }
   ],
   "source": [
    "# By month's name\n",
    "btc_usd.loc[\"August 2017\"]"
   ]
  },
  {
   "cell_type": "code",
   "execution_count": 19,
   "id": "ca8bca5f-1fdf-4443-9520-34f5ff234da0",
   "metadata": {
    "tags": []
   },
   "outputs": [
    {
     "ename": "NameError",
     "evalue": "name 'btc_usd' is not defined",
     "output_type": "error",
     "traceback": [
      "\u001b[1;31m---------------------------------------------------------------------------\u001b[0m",
      "\u001b[1;31mNameError\u001b[0m                                 Traceback (most recent call last)",
      "Cell \u001b[1;32mIn[19], line 2\u001b[0m\n\u001b[0;32m      1\u001b[0m \u001b[38;5;66;03m# By month's number\u001b[39;00m\n\u001b[1;32m----> 2\u001b[0m btc_usd\u001b[38;5;241m.\u001b[39mloc[\u001b[38;5;124m\"\u001b[39m\u001b[38;5;124m08/2017\u001b[39m\u001b[38;5;124m\"\u001b[39m]\n",
      "\u001b[1;31mNameError\u001b[0m: name 'btc_usd' is not defined"
     ]
    }
   ],
   "source": [
    "# By month's number\n",
    "btc_usd.loc[\"08/2017\"]"
   ]
  },
  {
   "cell_type": "code",
   "execution_count": 20,
   "id": "db553c97-9c5e-432b-acf0-712f822700bd",
   "metadata": {
    "tags": []
   },
   "outputs": [
    {
     "ename": "NameError",
     "evalue": "name 'btc_usd' is not defined",
     "output_type": "error",
     "traceback": [
      "\u001b[1;31m---------------------------------------------------------------------------\u001b[0m",
      "\u001b[1;31mNameError\u001b[0m                                 Traceback (most recent call last)",
      "Cell \u001b[1;32mIn[20], line 2\u001b[0m\n\u001b[0;32m      1\u001b[0m \u001b[38;5;66;03m# By date name\u001b[39;00m\n\u001b[1;32m----> 2\u001b[0m btc_usd\u001b[38;5;241m.\u001b[39mloc[\u001b[38;5;124m\"\u001b[39m\u001b[38;5;124mAugust 1, 2017\u001b[39m\u001b[38;5;124m\"\u001b[39m]\n",
      "\u001b[1;31mNameError\u001b[0m: name 'btc_usd' is not defined"
     ]
    }
   ],
   "source": [
    "# By date name\n",
    "btc_usd.loc[\"August 1, 2017\"]"
   ]
  },
  {
   "cell_type": "code",
   "execution_count": 21,
   "id": "faaa8b43-de93-4339-8148-4afc9ea67241",
   "metadata": {
    "tags": []
   },
   "outputs": [
    {
     "ename": "NameError",
     "evalue": "name 'btc_usd' is not defined",
     "output_type": "error",
     "traceback": [
      "\u001b[1;31m---------------------------------------------------------------------------\u001b[0m",
      "\u001b[1;31mNameError\u001b[0m                                 Traceback (most recent call last)",
      "Cell \u001b[1;32mIn[21], line 2\u001b[0m\n\u001b[0;32m      1\u001b[0m \u001b[38;5;66;03m# By date number\u001b[39;00m\n\u001b[1;32m----> 2\u001b[0m btc_usd\u001b[38;5;241m.\u001b[39mloc[\u001b[38;5;124m\"\u001b[39m\u001b[38;5;124m08-01-2017\u001b[39m\u001b[38;5;124m\"\u001b[39m]\n",
      "\u001b[1;31mNameError\u001b[0m: name 'btc_usd' is not defined"
     ]
    }
   ],
   "source": [
    "# By date number\n",
    "btc_usd.loc[\"08-01-2017\"]"
   ]
  },
  {
   "cell_type": "code",
   "execution_count": 22,
   "id": "a3e9987d-e0b6-4c67-8018-36cbef6474e2",
   "metadata": {
    "tags": []
   },
   "outputs": [
    {
     "ename": "NameError",
     "evalue": "name 'btc_usd' is not defined",
     "output_type": "error",
     "traceback": [
      "\u001b[1;31m---------------------------------------------------------------------------\u001b[0m",
      "\u001b[1;31mNameError\u001b[0m                                 Traceback (most recent call last)",
      "Cell \u001b[1;32mIn[22], line 1\u001b[0m\n\u001b[1;32m----> 1\u001b[0m btc_usd\u001b[38;5;241m.\u001b[39mloc[\u001b[38;5;124m\"\u001b[39m\u001b[38;5;124mApril 1, 2015\u001b[39m\u001b[38;5;124m\"\u001b[39m:\u001b[38;5;124m\"\u001b[39m\u001b[38;5;124mApril 10, 2015\u001b[39m\u001b[38;5;124m\"\u001b[39m]\n",
      "\u001b[1;31mNameError\u001b[0m: name 'btc_usd' is not defined"
     ]
    }
   ],
   "source": [
    "btc_usd.loc[\"April 1, 2015\":\"April 10, 2015\"]"
   ]
  },
  {
   "cell_type": "code",
   "execution_count": 23,
   "id": "d8d524b5-4b4e-430d-96eb-891137e499de",
   "metadata": {
    "tags": []
   },
   "outputs": [
    {
     "ename": "NameError",
     "evalue": "name 'btc_usd' is not defined",
     "output_type": "error",
     "traceback": [
      "\u001b[1;31m---------------------------------------------------------------------------\u001b[0m",
      "\u001b[1;31mNameError\u001b[0m                                 Traceback (most recent call last)",
      "Cell \u001b[1;32mIn[23], line 1\u001b[0m\n\u001b[1;32m----> 1\u001b[0m btc_usd\u001b[38;5;241m.\u001b[39mindex\u001b[38;5;241m.\u001b[39myear\n",
      "\u001b[1;31mNameError\u001b[0m: name 'btc_usd' is not defined"
     ]
    }
   ],
   "source": [
    "btc_usd.index.year"
   ]
  },
  {
   "cell_type": "code",
   "execution_count": 24,
   "id": "d4c40d71-f7bc-493b-8130-3134b53192a8",
   "metadata": {
    "tags": []
   },
   "outputs": [
    {
     "ename": "SyntaxError",
     "evalue": "invalid syntax. Perhaps you forgot a comma? (3647840981.py, line 2)",
     "output_type": "error",
     "traceback": [
      "\u001b[1;36m  Cell \u001b[1;32mIn[24], line 2\u001b[1;36m\u001b[0m\n\u001b[1;33m    ...\u001b[0m\n\u001b[1;37m    ^\u001b[0m\n\u001b[1;31mSyntaxError\u001b[0m\u001b[1;31m:\u001b[0m invalid syntax. Perhaps you forgot a comma?\n"
     ]
    }
   ],
   "source": [
    "Int64Index([2014, 2014, 2014, 2014, 2014, 2014, 2014, 2014, 2014, 2014,\n",
    "            ...\n",
    "            2021, 2021, 2021, 2021, 2021, 2021, 2021, 2021, 2021, 2021],\n",
    "           dtype='int64', name='Date', length=2599)"
   ]
  },
  {
   "cell_type": "code",
   "execution_count": 25,
   "id": "62d493a0-b26d-45f1-83e4-bdebd6552f34",
   "metadata": {
    "tags": []
   },
   "outputs": [
    {
     "ename": "SyntaxError",
     "evalue": "invalid syntax. Perhaps you forgot a comma? (1594969086.py, line 2)",
     "output_type": "error",
     "traceback": [
      "\u001b[1;36m  Cell \u001b[1;32mIn[25], line 2\u001b[1;36m\u001b[0m\n\u001b[1;33m    ...\u001b[0m\n\u001b[1;37m    ^\u001b[0m\n\u001b[1;31mSyntaxError\u001b[0m\u001b[1;31m:\u001b[0m invalid syntax. Perhaps you forgot a comma?\n"
     ]
    }
   ],
   "source": [
    "Int64Index([ 1,  2,  3,  4,  5,  6,  7,  8,  9, 10,\n",
    "            ...\n",
    "            11, 12, 13, 14, 15, 16, 17, 18, 19, 20],\n",
    "           dtype='int64', name='Date', length=2599)"
   ]
  },
  {
   "cell_type": "code",
   "execution_count": 26,
   "id": "6e36f54a-ebc3-48b0-952e-2eb33dc71f2f",
   "metadata": {
    "tags": []
   },
   "outputs": [
    {
     "ename": "NameError",
     "evalue": "name 'df' is not defined",
     "output_type": "error",
     "traceback": [
      "\u001b[1;31m---------------------------------------------------------------------------\u001b[0m",
      "\u001b[1;31mNameError\u001b[0m                                 Traceback (most recent call last)",
      "Cell \u001b[1;32mIn[26], line 1\u001b[0m\n\u001b[1;32m----> 1\u001b[0m df[\u001b[38;5;124m\"\u001b[39m\u001b[38;5;124mcolumn_name\u001b[39m\u001b[38;5;124m\"\u001b[39m]\u001b[38;5;241m.\u001b[39mdt\u001b[38;5;241m.\u001b[39mXX\n",
      "\u001b[1;31mNameError\u001b[0m: name 'df' is not defined"
     ]
    }
   ],
   "source": [
    "df[\"column_name\"].dt.XX"
   ]
  },
  {
   "cell_type": "code",
   "execution_count": 27,
   "id": "0bf9c6d3-f792-449e-91be-2818a011d42a",
   "metadata": {
    "tags": []
   },
   "outputs": [
    {
     "ename": "NameError",
     "evalue": "name 'btc_usd' is not defined",
     "output_type": "error",
     "traceback": [
      "\u001b[1;31m---------------------------------------------------------------------------\u001b[0m",
      "\u001b[1;31mNameError\u001b[0m                                 Traceback (most recent call last)",
      "Cell \u001b[1;32mIn[27], line 1\u001b[0m\n\u001b[1;32m----> 1\u001b[0m btc_date_column \u001b[38;5;241m=\u001b[39m btc_usd\u001b[38;5;241m.\u001b[39mreset_index()\n\u001b[0;32m      2\u001b[0m btc_date_column\u001b[38;5;241m.\u001b[39mhead()\n",
      "\u001b[1;31mNameError\u001b[0m: name 'btc_usd' is not defined"
     ]
    }
   ],
   "source": [
    "btc_date_column = btc_usd.reset_index()\n",
    "btc_date_column.head()"
   ]
  },
  {
   "cell_type": "code",
   "execution_count": 28,
   "id": "f1d178eb-d4b0-45f1-8096-65d64ab01fc5",
   "metadata": {
    "tags": []
   },
   "outputs": [
    {
     "ename": "NameError",
     "evalue": "name 'btc_date_column' is not defined",
     "output_type": "error",
     "traceback": [
      "\u001b[1;31m---------------------------------------------------------------------------\u001b[0m",
      "\u001b[1;31mNameError\u001b[0m                                 Traceback (most recent call last)",
      "Cell \u001b[1;32mIn[28], line 1\u001b[0m\n\u001b[1;32m----> 1\u001b[0m btc_date_column[\u001b[38;5;124m\"\u001b[39m\u001b[38;5;124mDate\u001b[39m\u001b[38;5;124m\"\u001b[39m]\u001b[38;5;241m.\u001b[39mdt\u001b[38;5;241m.\u001b[39myear\u001b[38;5;241m.\u001b[39mhead()\n",
      "\u001b[1;31mNameError\u001b[0m: name 'btc_date_column' is not defined"
     ]
    }
   ],
   "source": [
    "btc_date_column[\"Date\"].dt.year.head()"
   ]
  },
  {
   "cell_type": "code",
   "execution_count": 29,
   "id": "ec394a46-a689-418f-8229-b720e698dd95",
   "metadata": {
    "tags": []
   },
   "outputs": [
    {
     "ename": "NameError",
     "evalue": "name 'btc_date_column' is not defined",
     "output_type": "error",
     "traceback": [
      "\u001b[1;31m---------------------------------------------------------------------------\u001b[0m",
      "\u001b[1;31mNameError\u001b[0m                                 Traceback (most recent call last)",
      "Cell \u001b[1;32mIn[29], line 1\u001b[0m\n\u001b[1;32m----> 1\u001b[0m btc_date_column[\u001b[38;5;124m\"\u001b[39m\u001b[38;5;124mDate\u001b[39m\u001b[38;5;124m\"\u001b[39m]\u001b[38;5;241m.\u001b[39mdt\u001b[38;5;241m.\u001b[39mmonth\u001b[38;5;241m.\u001b[39mhead()\n",
      "\u001b[1;31mNameError\u001b[0m: name 'btc_date_column' is not defined"
     ]
    }
   ],
   "source": [
    "btc_date_column[\"Date\"].dt.month.head()"
   ]
  },
  {
   "cell_type": "code",
   "execution_count": 30,
   "id": "7d26712a-30c9-4c19-8cf8-30e0dc66b612",
   "metadata": {
    "tags": []
   },
   "outputs": [
    {
     "ename": "NameError",
     "evalue": "name 'btc_usd' is not defined",
     "output_type": "error",
     "traceback": [
      "\u001b[1;31m---------------------------------------------------------------------------\u001b[0m",
      "\u001b[1;31mNameError\u001b[0m                                 Traceback (most recent call last)",
      "Cell \u001b[1;32mIn[30], line 2\u001b[0m\n\u001b[0;32m      1\u001b[0m \u001b[38;5;66;03m# so we can see the result of shift clearly\u001b[39;00m\n\u001b[1;32m----> 2\u001b[0m btc_usd\u001b[38;5;241m.\u001b[39mhead()\n",
      "\u001b[1;31mNameError\u001b[0m: name 'btc_usd' is not defined"
     ]
    }
   ],
   "source": [
    "# so we can see the result of shift clearly\n",
    "btc_usd.head()"
   ]
  },
  {
   "cell_type": "code",
   "execution_count": 31,
   "id": "c349a175-93ea-4160-846d-bcca4af85342",
   "metadata": {
    "tags": []
   },
   "outputs": [
    {
     "ename": "NameError",
     "evalue": "name 'btc_usd' is not defined",
     "output_type": "error",
     "traceback": [
      "\u001b[1;31m---------------------------------------------------------------------------\u001b[0m",
      "\u001b[1;31mNameError\u001b[0m                                 Traceback (most recent call last)",
      "Cell \u001b[1;32mIn[31], line 1\u001b[0m\n\u001b[1;32m----> 1\u001b[0m btc_usd\u001b[38;5;241m.\u001b[39mshift()\u001b[38;5;241m.\u001b[39mhead()\n",
      "\u001b[1;31mNameError\u001b[0m: name 'btc_usd' is not defined"
     ]
    }
   ],
   "source": [
    "btc_usd.shift().head()"
   ]
  },
  {
   "cell_type": "code",
   "execution_count": 32,
   "id": "344fd41c-9a10-40ba-a5c0-4fe8ebf18adb",
   "metadata": {
    "tags": []
   },
   "outputs": [
    {
     "ename": "NameError",
     "evalue": "name 'btc_usd' is not defined",
     "output_type": "error",
     "traceback": [
      "\u001b[1;31m---------------------------------------------------------------------------\u001b[0m",
      "\u001b[1;31mNameError\u001b[0m                                 Traceback (most recent call last)",
      "Cell \u001b[1;32mIn[32], line 1\u001b[0m\n\u001b[1;32m----> 1\u001b[0m ((btc_usd \u001b[38;5;241m-\u001b[39m btc_usd\u001b[38;5;241m.\u001b[39mshift()) \u001b[38;5;241m/\u001b[39m btc_usd\u001b[38;5;241m.\u001b[39mshift())\u001b[38;5;241m.\u001b[39mhead()\n",
      "\u001b[1;31mNameError\u001b[0m: name 'btc_usd' is not defined"
     ]
    }
   ],
   "source": [
    "((btc_usd - btc_usd.shift()) / btc_usd.shift()).head()"
   ]
  },
  {
   "cell_type": "code",
   "execution_count": 33,
   "id": "0dc9f7fc-ae60-40f2-8458-90f61cc0d541",
   "metadata": {
    "tags": []
   },
   "outputs": [
    {
     "ename": "NameError",
     "evalue": "name 'btc_usd' is not defined",
     "output_type": "error",
     "traceback": [
      "\u001b[1;31m---------------------------------------------------------------------------\u001b[0m",
      "\u001b[1;31mNameError\u001b[0m                                 Traceback (most recent call last)",
      "Cell \u001b[1;32mIn[33], line 1\u001b[0m\n\u001b[1;32m----> 1\u001b[0m btc_usd\u001b[38;5;241m.\u001b[39mshift(\u001b[38;5;241m3\u001b[39m)\u001b[38;5;241m.\u001b[39mhead()\n",
      "\u001b[1;31mNameError\u001b[0m: name 'btc_usd' is not defined"
     ]
    }
   ],
   "source": [
    "btc_usd.shift(3).head()"
   ]
  },
  {
   "cell_type": "code",
   "execution_count": 34,
   "id": "cf9591ce-eb44-4655-b680-c2924c86e61c",
   "metadata": {
    "tags": []
   },
   "outputs": [
    {
     "ename": "NameError",
     "evalue": "name 'btc_usd' is not defined",
     "output_type": "error",
     "traceback": [
      "\u001b[1;31m---------------------------------------------------------------------------\u001b[0m",
      "\u001b[1;31mNameError\u001b[0m                                 Traceback (most recent call last)",
      "Cell \u001b[1;32mIn[34], line 1\u001b[0m\n\u001b[1;32m----> 1\u001b[0m btc_usd\u001b[38;5;241m.\u001b[39mshift(\u001b[38;5;241m-\u001b[39m\u001b[38;5;241m2\u001b[39m)\u001b[38;5;241m.\u001b[39mhead()\n",
      "\u001b[1;31mNameError\u001b[0m: name 'btc_usd' is not defined"
     ]
    }
   ],
   "source": [
    "btc_usd.shift(-2).head()"
   ]
  },
  {
   "cell_type": "code",
   "execution_count": 35,
   "id": "40def340-3791-462c-8a15-b2777475ad76",
   "metadata": {
    "tags": []
   },
   "outputs": [
    {
     "ename": "NameError",
     "evalue": "name 'btc_usd' is not defined",
     "output_type": "error",
     "traceback": [
      "\u001b[1;31m---------------------------------------------------------------------------\u001b[0m",
      "\u001b[1;31mNameError\u001b[0m                                 Traceback (most recent call last)",
      "Cell \u001b[1;32mIn[35], line 1\u001b[0m\n\u001b[1;32m----> 1\u001b[0m btc_usd\u001b[38;5;241m.\u001b[39mshift(\u001b[38;5;241m-\u001b[39m\u001b[38;5;241m2\u001b[39m)\u001b[38;5;241m.\u001b[39mtail()\n",
      "\u001b[1;31mNameError\u001b[0m: name 'btc_usd' is not defined"
     ]
    }
   ],
   "source": [
    "btc_usd.shift(-2).tail()"
   ]
  },
  {
   "cell_type": "code",
   "execution_count": 36,
   "id": "12b96fc0-d4c2-4e72-ba47-d5e1906c9dc3",
   "metadata": {
    "tags": []
   },
   "outputs": [
    {
     "ename": "NameError",
     "evalue": "name 'btc_usd' is not defined",
     "output_type": "error",
     "traceback": [
      "\u001b[1;31m---------------------------------------------------------------------------\u001b[0m",
      "\u001b[1;31mNameError\u001b[0m                                 Traceback (most recent call last)",
      "Cell \u001b[1;32mIn[36], line 2\u001b[0m\n\u001b[0;32m      1\u001b[0m \u001b[38;5;66;03m# first take only the first 6 rows so we can easily see what is going on\u001b[39;00m\n\u001b[1;32m----> 2\u001b[0m btc_small \u001b[38;5;241m=\u001b[39m btc_usd\u001b[38;5;241m.\u001b[39mhead(\u001b[38;5;241m6\u001b[39m)\n\u001b[0;32m      3\u001b[0m btc_small\n",
      "\u001b[1;31mNameError\u001b[0m: name 'btc_usd' is not defined"
     ]
    }
   ],
   "source": [
    "# first take only the first 6 rows so we can easily see what is going on\n",
    "btc_small = btc_usd.head(6)\n",
    "btc_small"
   ]
  },
  {
   "cell_type": "code",
   "execution_count": 37,
   "id": "0f6cee78-ccd8-4b15-8375-d3dad9ba86a1",
   "metadata": {
    "tags": []
   },
   "outputs": [
    {
     "ename": "NameError",
     "evalue": "name 'btc_small' is not defined",
     "output_type": "error",
     "traceback": [
      "\u001b[1;31m---------------------------------------------------------------------------\u001b[0m",
      "\u001b[1;31mNameError\u001b[0m                                 Traceback (most recent call last)",
      "Cell \u001b[1;32mIn[37], line 1\u001b[0m\n\u001b[1;32m----> 1\u001b[0m btc_small\u001b[38;5;241m.\u001b[39mrolling(\u001b[38;5;124m\"\u001b[39m\u001b[38;5;124m2d\u001b[39m\u001b[38;5;124m\"\u001b[39m)\u001b[38;5;241m.\u001b[39mmean()\n",
      "\u001b[1;31mNameError\u001b[0m: name 'btc_small' is not defined"
     ]
    }
   ],
   "source": [
    "btc_small.rolling(\"2d\").mean()"
   ]
  },
  {
   "cell_type": "code",
   "execution_count": 38,
   "id": "50c0671c-b73e-4ebd-9d81-22a6943a349d",
   "metadata": {
    "tags": []
   },
   "outputs": [
    {
     "ename": "NameError",
     "evalue": "name 'btc_usd' is not defined",
     "output_type": "error",
     "traceback": [
      "\u001b[1;31m---------------------------------------------------------------------------\u001b[0m",
      "\u001b[1;31mNameError\u001b[0m                                 Traceback (most recent call last)",
      "Cell \u001b[1;32mIn[38], line 2\u001b[0m\n\u001b[0;32m      1\u001b[0m fig, ax \u001b[38;5;241m=\u001b[39m plt\u001b[38;5;241m.\u001b[39msubplots(figsize\u001b[38;5;241m=\u001b[39m(\u001b[38;5;241m10\u001b[39m, \u001b[38;5;241m4\u001b[39m))\n\u001b[1;32m----> 2\u001b[0m btc_usd[\u001b[38;5;124m\"\u001b[39m\u001b[38;5;124mOpen\u001b[39m\u001b[38;5;124m\"\u001b[39m]\u001b[38;5;241m.\u001b[39mplot(ax\u001b[38;5;241m=\u001b[39max, linestyle\u001b[38;5;241m=\u001b[39m\u001b[38;5;124m\"\u001b[39m\u001b[38;5;124m--\u001b[39m\u001b[38;5;124m\"\u001b[39m, alpha\u001b[38;5;241m=\u001b[39m\u001b[38;5;241m0.8\u001b[39m)\n\u001b[0;32m      3\u001b[0m btc_usd\u001b[38;5;241m.\u001b[39mrolling(\u001b[38;5;124m\"\u001b[39m\u001b[38;5;124m21d\u001b[39m\u001b[38;5;124m\"\u001b[39m)\u001b[38;5;241m.\u001b[39mmax()[\u001b[38;5;124m\"\u001b[39m\u001b[38;5;124mOpen\u001b[39m\u001b[38;5;124m\"\u001b[39m]\u001b[38;5;241m.\u001b[39mplot(ax\u001b[38;5;241m=\u001b[39max, alpha\u001b[38;5;241m=\u001b[39m\u001b[38;5;241m0.8\u001b[39m, linewidth\u001b[38;5;241m=\u001b[39m\u001b[38;5;241m3\u001b[39m)\n\u001b[0;32m      4\u001b[0m ax\u001b[38;5;241m.\u001b[39mlegend([\u001b[38;5;124m\"\u001b[39m\u001b[38;5;124mOriginal\u001b[39m\u001b[38;5;124m\"\u001b[39m, \u001b[38;5;124m\"\u001b[39m\u001b[38;5;124m21 day max\u001b[39m\u001b[38;5;124m\"\u001b[39m])\n",
      "\u001b[1;31mNameError\u001b[0m: name 'btc_usd' is not defined"
     ]
    },
    {
     "data": {
      "image/png": "[encoded data removed]",
      "text/plain": [
       "<Figure size 1000x400 with 1 Axes>"
      ]
     },
     "metadata": {},
     "output_type": "display_data"
    }
   ],
   "source": [
    "fig, ax = plt.subplots(figsize=(10, 4))\n",
    "btc_usd[\"Open\"].plot(ax=ax, linestyle=\"--\", alpha=0.8)\n",
    "btc_usd.rolling(\"21d\").max()[\"Open\"].plot(ax=ax, alpha=0.8, linewidth=3)\n",
    "ax.legend([\"Original\", \"21 day max\"])"
   ]
  },
  {
   "cell_type": "code",
   "execution_count": 39,
   "id": "e6546b42-91e7-4374-b3c8-b3c9e4fd6c35",
   "metadata": {
    "tags": []
   },
   "outputs": [],
   "source": [
    "def is_volatile(x):\n",
    "    \"Returns a 1 if the variance is greater than 1, otherwise returns 0\"\n",
    "    if x.var() > 1.0:\n",
    "        return 1.0\n",
    "    else:\n",
    "        return 0.0"
   ]
  },
  {
   "cell_type": "code",
   "execution_count": 40,
   "id": "5cc4cde5-7c94-4ad4-a728-9ea6a90e7739",
   "metadata": {
    "tags": []
   },
   "outputs": [
    {
     "ename": "NameError",
     "evalue": "name 'btc_usd' is not defined",
     "output_type": "error",
     "traceback": [
      "\u001b[1;31m---------------------------------------------------------------------------\u001b[0m",
      "\u001b[1;31mNameError\u001b[0m                                 Traceback (most recent call last)",
      "Cell \u001b[1;32mIn[40], line 2\u001b[0m\n\u001b[0;32m      1\u001b[0m \u001b[38;5;66;03m# business quarter\u001b[39;00m\n\u001b[1;32m----> 2\u001b[0m btc_usd\u001b[38;5;241m.\u001b[39mresample(\u001b[38;5;124m\"\u001b[39m\u001b[38;5;124mBQ\u001b[39m\u001b[38;5;124m\"\u001b[39m)\u001b[38;5;241m.\u001b[39mmean()\n",
      "\u001b[1;31mNameError\u001b[0m: name 'btc_usd' is not defined"
     ]
    }
   ],
   "source": [
    "# business quarter\n",
    "btc_usd.resample(\"BQ\").mean()"
   ]
  },
  {
   "cell_type": "code",
   "execution_count": 41,
   "id": "195f0555-cd4c-4dec-acb2-737a63183f58",
   "metadata": {
    "tags": []
   },
   "outputs": [
    {
     "ename": "NameError",
     "evalue": "name 'btc_usd' is not defined",
     "output_type": "error",
     "traceback": [
      "\u001b[1;31m---------------------------------------------------------------------------\u001b[0m",
      "\u001b[1;31mNameError\u001b[0m                                 Traceback (most recent call last)",
      "Cell \u001b[1;32mIn[41], line 2\u001b[0m\n\u001b[0;32m      1\u001b[0m \u001b[38;5;66;03m# multiple functions at 2 start-of-quarter frequency\u001b[39;00m\n\u001b[1;32m----> 2\u001b[0m btc_usd\u001b[38;5;241m.\u001b[39mresample(\u001b[38;5;124m\"\u001b[39m\u001b[38;5;124m2BQS\u001b[39m\u001b[38;5;124m\"\u001b[39m)\u001b[38;5;241m.\u001b[39magg([\u001b[38;5;124m\"\u001b[39m\u001b[38;5;124mmin\u001b[39m\u001b[38;5;124m\"\u001b[39m, \u001b[38;5;124m\"\u001b[39m\u001b[38;5;124mmax\u001b[39m\u001b[38;5;124m\"\u001b[39m])\n",
      "\u001b[1;31mNameError\u001b[0m: name 'btc_usd' is not defined"
     ]
    }
   ],
   "source": [
    "# multiple functions at 2 start-of-quarter frequency\n",
    "btc_usd.resample(\"2BQS\").agg([\"min\", \"max\"])"
   ]
  },
  {
   "cell_type": "code",
   "execution_count": 42,
   "id": "7a719f71-1868-4441-bbca-eaa9b2504408",
   "metadata": {
    "tags": []
   },
   "outputs": [
    {
     "ename": "NameError",
     "evalue": "name 'quandl' is not defined",
     "output_type": "error",
     "traceback": [
      "\u001b[1;31m---------------------------------------------------------------------------\u001b[0m",
      "\u001b[1;31mNameError\u001b[0m                                 Traceback (most recent call last)",
      "Cell \u001b[1;32mIn[42], line 1\u001b[0m\n\u001b[1;32m----> 1\u001b[0m quandl\u001b[38;5;241m.\u001b[39mApiConfig\u001b[38;5;241m.\u001b[39mapi_key \u001b[38;5;241m=\u001b[39m \u001b[38;5;124m\"\u001b[39m\u001b[38;5;124mDn6BtVoBhzuKTuyo6hbp\u001b[39m\u001b[38;5;124m\"\u001b[39m\n",
      "\u001b[1;31mNameError\u001b[0m: name 'quandl' is not defined"
     ]
    }
   ],
   "source": [
    "quandl.ApiConfig.api_key = \"Dn6BtVoBhzuKTuyo6hbp\""
   ]
  },
  {
   "cell_type": "code",
   "execution_count": null,
   "id": "eced2e3a-e11e-4757-aeaa-19005ab3e72d",
   "metadata": {},
   "outputs": [],
   "source": []
  }
 ],
 "metadata": {
  "kernelspec": {
   "display_name": "Python 3 (ipykernel)",
   "language": "python",
   "name": "python3"
  },
  "language_info": {
   "codemirror_mode": {
    "name": "ipython",
    "version": 3
   },
   "file_extension": ".py",
   "mimetype": "text/x-python",
   "name": "python",
   "nbconvert_exporter": "python",
   "pygments_lexer": "ipython3",
   "version": "3.11.4"
  }
 },
 "nbformat": 4,
 "nbformat_minor": 5
}
